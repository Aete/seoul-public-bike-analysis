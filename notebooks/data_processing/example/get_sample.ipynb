{
 "cells": [
  {
   "cell_type": "code",
   "execution_count": 1,
   "metadata": {},
   "outputs": [],
   "source": [
    "import os\n",
    "\n",
    "import numpy as np\n",
    "import pandas as pd"
   ]
  },
  {
   "cell_type": "code",
   "execution_count": 2,
   "metadata": {},
   "outputs": [
    {
     "name": "stderr",
     "output_type": "stream",
     "text": [
      "C:\\Users\\seung\\AppData\\Local\\Temp\\ipykernel_16812\\57293592.py:17: DeprecationWarning: In a future version, `df.iloc[:, i] = newvals` will attempt to set the values inplace instead of always setting a new array. To retain the old behavior, use either `df[df.columns[i]] = newvals` or, if columns are non-unique, `df.isetitem(i, newvals)`\n",
      "  df_bike_rental.loc[:,'대여일시'] = pd.to_datetime(df_bike_rental.loc[:,'대여일시'])\n"
     ]
    }
   ],
   "source": [
    "dir_csv = '../data/bike_rental_history/raw'\n",
    "list_csv = os.listdir(dir_csv)\n",
    "\n",
    "list_df_bike = []\n",
    "for csv in list_csv:\n",
    "  df_tmp = pd.read_csv(f'{dir_csv}/{csv}', encoding='cp949')\n",
    "  list_df_bike.append(df_tmp)\n",
    "\n",
    "df_bike_rental = pd.concat(list_df_bike, ignore_index=True)\n",
    "\n",
    "# 대여대여소, 반납대여소 id가 없는 대여기록은 삭제\n",
    "df_bike_rental = df_bike_rental.loc[np.logical_not(pd.isna(df_bike_rental.loc[:,'대여대여소ID']))]\n",
    "df_bike_rental = df_bike_rental.loc[np.logical_not(pd.isna(df_bike_rental.loc[:,'반납대여소ID']))]\n",
    "df_bike_rental = df_bike_rental.loc[np.logical_not(df_bike_rental.loc[:,'반납대여소ID'].str.contains('N'))]\n",
    "\n",
    "# 대여시간 자료형 변환\n",
    "df_bike_rental.loc[:,'대여일시'] = pd.to_datetime(df_bike_rental.loc[:,'대여일시'])"
   ]
  },
  {
   "cell_type": "code",
   "execution_count": 19,
   "metadata": {},
   "outputs": [],
   "source": [
    "df_bike_rental_weekday = df_bike_rental.loc[df_bike_rental.loc[:,'대여일시'].dt.dayofweek <5]\n",
    "df_bike_rental_weekday = df_bike_rental_weekday.loc[df_bike_rental_weekday.loc[:,'대여대여소ID'] != df_bike_rental_weekday.loc[:,'반납대여소ID']]\n",
    "df_bike_rental_weekday = df_bike_rental_weekday.sample(frac=1/df_bike_rental_weekday.loc[:,'대여일시'].dt.date.nunique())\n",
    "df_bike_rental_weekday.loc[:,'route'] = df_bike_rental_weekday.loc[:,['대여대여소ID','반납대여소ID']].apply(lambda x: '~'.join(x), axis=1)"
   ]
  },
  {
   "cell_type": "code",
   "execution_count": 20,
   "metadata": {},
   "outputs": [],
   "source": [
    "df_bike_rental_weekday_count = df_bike_rental_weekday.groupby('route', as_index=False).count().loc[:,['route','자전거번호']].rename(columns={'자전거번호':'count'})\n",
    "df_bike_rental_weekday_count = df_bike_rental_weekday_count.loc[df_bike_rental_weekday_count.loc[:,'count']>1]\n",
    "\n",
    "df_bike_rental_weekday = df_bike_rental_weekday.loc[df_bike_rental_weekday.loc[:,'route'].isin(df_bike_rental_weekday_count.loc[:,'route'])]"
   ]
  },
  {
   "cell_type": "code",
   "execution_count": 21,
   "metadata": {},
   "outputs": [
    {
     "data": {
      "text/plain": [
       "21425"
      ]
     },
     "execution_count": 21,
     "metadata": {},
     "output_type": "execute_result"
    }
   ],
   "source": [
    "df_bike_rental_weekday.loc[:,'route'].nunique()"
   ]
  },
  {
   "cell_type": "code",
   "execution_count": 22,
   "metadata": {},
   "outputs": [],
   "source": [
    "df_bike_rental_weekday.to_csv('../data/bike_rental_history/processed/2022_weekday_sample.csv', index=False)"
   ]
  }
 ],
 "metadata": {
  "kernelspec": {
   "display_name": "geo",
   "language": "python",
   "name": "python3"
  },
  "language_info": {
   "codemirror_mode": {
    "name": "ipython",
    "version": 3
   },
   "file_extension": ".py",
   "mimetype": "text/x-python",
   "name": "python",
   "nbconvert_exporter": "python",
   "pygments_lexer": "ipython3",
   "version": "3.11.0"
  }
 },
 "nbformat": 4,
 "nbformat_minor": 2
}
